{
  "nbformat": 4,
  "nbformat_minor": 0,
  "metadata": {
    "colab": {
      "name": "Matriz_Confusion",
      "provenance": [],
      "authorship_tag": "ABX9TyPVtC7auUJDE5LdvCdkwNrH",
      "include_colab_link": true
    },
    "kernelspec": {
      "name": "python3",
      "display_name": "Python 3"
    },
    "language_info": {
      "name": "python"
    }
  },
  "cells": [
    {
      "cell_type": "markdown",
      "metadata": {
        "id": "view-in-github",
        "colab_type": "text"
      },
      "source": [
        "<a href=\"https://colab.research.google.com/github/Nico-GP/Coding-Dojo_Track1/blob/main/Week4/Matriz_Confusion.ipynb\" target=\"_parent\"><img src=\"https://colab.research.google.com/assets/colab-badge.svg\" alt=\"Open In Colab\"/></a>"
      ]
    },
    {
      "cell_type": "markdown",
      "source": [
        "# **CODING DOJO**: Matriz de Confusion\n",
        "## Creado por: Nicolas Gonzalez\n",
        "### Descripcion: Matriz de confusion con mapa de calor\n",
        "* Creado: 27/01/22\n",
        "* Ultima Actualizacion: 27/01/22"
      ],
      "metadata": {
        "id": "8NvR9iU50D36"
      }
    },
    {
      "cell_type": "code",
      "source": [
        "import numpy as np"
      ],
      "metadata": {
        "id": "MLc4HCUE59T3"
      },
      "execution_count": 7,
      "outputs": []
    },
    {
      "cell_type": "code",
      "source": [
        "import matplotlib.pyplot as plt"
      ],
      "metadata": {
        "id": "icL8raQd6AR0"
      },
      "execution_count": 8,
      "outputs": []
    },
    {
      "cell_type": "code",
      "source": [
        "import seaborn as sns"
      ],
      "metadata": {
        "id": "FcEHIlvR6B93"
      },
      "execution_count": 9,
      "outputs": []
    },
    {
      "cell_type": "markdown",
      "source": [
        "Se crea la la matriz"
      ],
      "metadata": {
        "id": "s6GlGP6s_w5c"
      }
    },
    {
      "cell_type": "code",
      "source": [
        "mc = np.array([[87, 16], [17, 59]])\n",
        "mc"
      ],
      "metadata": {
        "colab": {
          "base_uri": "https://localhost:8080/"
        },
        "id": "rfeHMdn540X8",
        "outputId": "02623d65-12b3-47c4-c55b-aa7c4ee2fce2"
      },
      "execution_count": 16,
      "outputs": [
        {
          "output_type": "execute_result",
          "data": {
            "text/plain": [
              "array([[87, 16],\n",
              "       [17, 59]])"
            ]
          },
          "metadata": {},
          "execution_count": 16
        }
      ]
    },
    {
      "cell_type": "markdown",
      "source": [
        "Se aplana la matriz"
      ],
      "metadata": {
        "id": "4wiXKrhm_1R7"
      }
    },
    {
      "cell_type": "code",
      "source": [
        "mc.ravel()"
      ],
      "metadata": {
        "colab": {
          "base_uri": "https://localhost:8080/"
        },
        "id": "jJvOEH206zei",
        "outputId": "69375732-5324-4eb5-dad9-f3710a5bba7a"
      },
      "execution_count": 17,
      "outputs": [
        {
          "output_type": "execute_result",
          "data": {
            "text/plain": [
              "array([87, 16, 17, 59])"
            ]
          },
          "metadata": {},
          "execution_count": 17
        }
      ]
    },
    {
      "cell_type": "markdown",
      "source": [
        "Se nombran los valores"
      ],
      "metadata": {
        "id": "24nP5LHX_8Pa"
      }
    },
    {
      "cell_type": "code",
      "source": [
        "tn, fp, fn, tp = mc.ravel()"
      ],
      "metadata": {
        "id": "vykWbbV-5QgH"
      },
      "execution_count": 20,
      "outputs": []
    },
    {
      "cell_type": "markdown",
      "source": [
        "Se calcula la precision"
      ],
      "metadata": {
        "id": "dZrodKLeAEFa"
      }
    },
    {
      "cell_type": "code",
      "source": [
        "precision =  (tn + tp) / (tn + tp + fn + fp)\n",
        "precision"
      ],
      "metadata": {
        "colab": {
          "base_uri": "https://localhost:8080/"
        },
        "id": "S8QYEaYN5ymf",
        "outputId": "b2e2a9d9-14aa-4443-ec35-a34e311509e2"
      },
      "execution_count": 22,
      "outputs": [
        {
          "output_type": "execute_result",
          "data": {
            "text/plain": [
              "0.8156424581005587"
            ]
          },
          "metadata": {},
          "execution_count": 22
        }
      ]
    },
    {
      "cell_type": "markdown",
      "source": [
        "Se grafica la matriz como mapa de calor"
      ],
      "metadata": {
        "id": "5VMezvcgAGu_"
      }
    },
    {
      "cell_type": "code",
      "source": [
        "plt.figure(figsize = (10,10))\n",
        "sns.heatmap(mc, annot = True,\n",
        "            fmt = \".0f\",\n",
        "            linewidths = .1,\n",
        "            square = True,\n",
        "            cmap = 'Blues');\n",
        "plt.ylabel('Real', fontsize = 20);\n",
        "plt.xlabel('Prediccion', fontsize = 20);\n",
        "plt.title('Presicion: {}'.format(precision), size = 25, loc = 'center');\n",
        "plt.tick_params(labelsize = 15)"
      ],
      "metadata": {
        "colab": {
          "base_uri": "https://localhost:8080/",
          "height": 574
        },
        "id": "RE2oVVe46v9E",
        "outputId": "02d08d5a-5833-42e3-eee5-96a73f284a0e"
      },
      "execution_count": 57,
      "outputs": [
        {
          "output_type": "display_data",
          "data": {
            "image/png": "[encoded data removed]",
            "text/plain": [
              "<Figure size 720x720 with 2 Axes>"
            ]
          },
          "metadata": {
            "needs_background": "light"
          }
        }
      ]
    }
  ]
}