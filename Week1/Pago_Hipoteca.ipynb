{
  "nbformat": 4,
  "nbformat_minor": 0,
  "metadata": {
    "colab": {
      "name": "Pago_Hipoteca",
      "provenance": [],
      "authorship_tag": "ABX9TyMDL9ZWXlTsPo6P1hmeIq88",
      "include_colab_link": true
    },
    "kernelspec": {
      "name": "python3",
      "display_name": "Python 3"
    },
    "language_info": {
      "name": "python"
    }
  },
  "cells": [
    {
      "cell_type": "markdown",
      "metadata": {
        "id": "view-in-github",
        "colab_type": "text"
      },
      "source": [
        "<a href=\"https://colab.research.google.com/github/Nico-GP/Coding-Dojo_Track1/blob/main/Week1/Pago_Hipoteca.ipynb\" target=\"_parent\"><img src=\"https://colab.research.google.com/assets/colab-badge.svg\" alt=\"Open In Colab\"/></a>"
      ]
    },
    {
      "cell_type": "markdown",
      "source": [
        "# **CODING DOJO**: Ejercicio Pago de Hipoteca\n",
        "## Creado por: Nicolas Gonzalez\n",
        "### Descripcion: Calculo de pago mensual de hipoteca\n",
        "* Creado: 05/01/22\n",
        "* Ultima Actualizacion: 05/01/22"
      ],
      "metadata": {
        "id": "-39D1Fq_5P6Q"
      }
    },
    {
      "cell_type": "markdown",
      "source": [
        "¿Cuánto sería el pago mensual para una hipoteca de 30 años (30 * 12 = **360 meses** totales) con un capital de **400.000 dólares** y una **TAE de 3%** (tasa de interés con honorarios incluidos)? "
      ],
      "metadata": {
        "id": "kH3hSTePh5EO"
      }
    },
    {
      "cell_type": "code",
      "source": [
        "P=400000\n",
        "r=0.03/12\n",
        "n=360\n",
        "\n",
        "PagoMensual=(P*(((r)*((1+(r))**n))/(((1+(r))**n)-1)))\n",
        "\n",
        "print(\"El pago mensual es de la hipoteca es\", PagoMensual, \"dolares.\")"
      ],
      "metadata": {
        "colab": {
          "base_uri": "https://localhost:8080/"
        },
        "id": "8RjuZEKw1qpk",
        "outputId": "4014e646-2911-47f4-f7f1-e1b6d303f63b"
      },
      "execution_count": null,
      "outputs": [
        {
          "output_type": "stream",
          "name": "stdout",
          "text": [
            "El pago mensual es de la hipoteca es 1686.4161349178237 dolares.\n"
          ]
        }
      ]
    }
  ]
}